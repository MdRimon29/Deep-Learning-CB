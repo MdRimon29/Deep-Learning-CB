{
 "cells": [
  {
   "cell_type": "code",
   "execution_count": 2,
   "id": "04ed345c",
   "metadata": {},
   "outputs": [],
   "source": [
    "import math"
   ]
  },
  {
   "cell_type": "markdown",
   "id": "b5d66697",
   "metadata": {},
   "source": [
    "Create a Sigmoid activation function"
   ]
  },
  {
   "cell_type": "code",
   "execution_count": 3,
   "id": "bcfdb731",
   "metadata": {},
   "outputs": [],
   "source": [
    "def Sigmoid(x):\n",
    "    return 1/(1+math.exp(-x))"
   ]
  },
  {
   "cell_type": "code",
   "execution_count": 4,
   "id": "a262442a",
   "metadata": {},
   "outputs": [
    {
     "data": {
      "text/plain": [
       "1.0"
      ]
     },
     "execution_count": 4,
     "metadata": {},
     "output_type": "execute_result"
    }
   ],
   "source": [
    "Sigmoid(100)"
   ]
  },
  {
   "cell_type": "code",
   "execution_count": 20,
   "id": "2f5e215c",
   "metadata": {},
   "outputs": [
    {
     "data": {
      "text/plain": [
       "0.7310585786300049"
      ]
     },
     "execution_count": 20,
     "metadata": {},
     "output_type": "execute_result"
    }
   ],
   "source": [
    "Sigmoid(1)"
   ]
  },
  {
   "cell_type": "code",
   "execution_count": 21,
   "id": "3e133486",
   "metadata": {},
   "outputs": [
    {
     "data": {
      "text/plain": [
       "0.0066928509242848554"
      ]
     },
     "execution_count": 21,
     "metadata": {},
     "output_type": "execute_result"
    }
   ],
   "source": [
    "Sigmoid(-5)"
   ]
  },
  {
   "cell_type": "code",
   "execution_count": 24,
   "id": "0a2ba427",
   "metadata": {},
   "outputs": [
    {
     "data": {
      "text/plain": [
       "4.5397868702434395e-05"
      ]
     },
     "execution_count": 24,
     "metadata": {},
     "output_type": "execute_result"
    }
   ],
   "source": [
    "Sigmoid(-10)"
   ]
  },
  {
   "cell_type": "markdown",
   "id": "323a5b4d",
   "metadata": {},
   "source": [
    "For Tanh activataion function"
   ]
  },
  {
   "cell_type": "code",
   "execution_count": 25,
   "id": "19e0cf98",
   "metadata": {},
   "outputs": [],
   "source": [
    "def tanh(x):\n",
    "    return ((math.exp(x)-(math.exp(-x)))/(math.exp(x)+(math.exp(-x))))"
   ]
  },
  {
   "cell_type": "code",
   "execution_count": 26,
   "id": "3c9e9be8",
   "metadata": {},
   "outputs": [
    {
     "data": {
      "text/plain": [
       "1.0"
      ]
     },
     "execution_count": 26,
     "metadata": {},
     "output_type": "execute_result"
    }
   ],
   "source": [
    "tanh(100)"
   ]
  },
  {
   "cell_type": "code",
   "execution_count": 27,
   "id": "49392cc2",
   "metadata": {},
   "outputs": [
    {
     "data": {
      "text/plain": [
       "0.7615941559557649"
      ]
     },
     "execution_count": 27,
     "metadata": {},
     "output_type": "execute_result"
    }
   ],
   "source": [
    "tanh(1)"
   ]
  },
  {
   "cell_type": "code",
   "execution_count": 28,
   "id": "a14dc786",
   "metadata": {},
   "outputs": [
    {
     "data": {
      "text/plain": [
       "-0.999909204262595"
      ]
     },
     "execution_count": 28,
     "metadata": {},
     "output_type": "execute_result"
    }
   ],
   "source": [
    "tanh(-5)"
   ]
  },
  {
   "cell_type": "code",
   "execution_count": 29,
   "id": "f39da4a4",
   "metadata": {},
   "outputs": [
    {
     "data": {
      "text/plain": [
       "-0.9999999958776926"
      ]
     },
     "execution_count": 29,
     "metadata": {},
     "output_type": "execute_result"
    }
   ],
   "source": [
    "tanh(-10)"
   ]
  },
  {
   "cell_type": "code",
   "execution_count": 31,
   "id": "81e4094f",
   "metadata": {},
   "outputs": [
    {
     "data": {
      "text/plain": [
       "-1.0"
      ]
     },
     "execution_count": 31,
     "metadata": {},
     "output_type": "execute_result"
    }
   ],
   "source": [
    "tanh(-100)"
   ]
  },
  {
   "cell_type": "markdown",
   "id": "b4a2a8ee",
   "metadata": {},
   "source": [
    "RelU activation function"
   ]
  },
  {
   "cell_type": "code",
   "execution_count": 32,
   "id": "4d7c5fed",
   "metadata": {},
   "outputs": [],
   "source": [
    "def RelU(x):\n",
    "    return max(0,x)"
   ]
  },
  {
   "cell_type": "code",
   "execution_count": 33,
   "id": "9c6eb372",
   "metadata": {},
   "outputs": [
    {
     "data": {
      "text/plain": [
       "100"
      ]
     },
     "execution_count": 33,
     "metadata": {},
     "output_type": "execute_result"
    }
   ],
   "source": [
    "RelU(100)"
   ]
  },
  {
   "cell_type": "code",
   "execution_count": 34,
   "id": "17ad948f",
   "metadata": {},
   "outputs": [
    {
     "data": {
      "text/plain": [
       "1"
      ]
     },
     "execution_count": 34,
     "metadata": {},
     "output_type": "execute_result"
    }
   ],
   "source": [
    "RelU(1)"
   ]
  },
  {
   "cell_type": "code",
   "execution_count": 35,
   "id": "0355fbd7",
   "metadata": {},
   "outputs": [
    {
     "data": {
      "text/plain": [
       "0"
      ]
     },
     "execution_count": 35,
     "metadata": {},
     "output_type": "execute_result"
    }
   ],
   "source": [
    "RelU(-10)"
   ]
  },
  {
   "cell_type": "markdown",
   "id": "2578d367",
   "metadata": {},
   "source": [
    "Leaky RelU activation function"
   ]
  },
  {
   "cell_type": "code",
   "execution_count": 36,
   "id": "33314057",
   "metadata": {},
   "outputs": [],
   "source": [
    "def leaky_relu(x):\n",
    "    return max(0.1*x,x)"
   ]
  },
  {
   "cell_type": "code",
   "execution_count": 37,
   "id": "b28cac36",
   "metadata": {},
   "outputs": [
    {
     "data": {
      "text/plain": [
       "100"
      ]
     },
     "execution_count": 37,
     "metadata": {},
     "output_type": "execute_result"
    }
   ],
   "source": [
    "leaky_relu(100)"
   ]
  },
  {
   "cell_type": "code",
   "execution_count": 38,
   "id": "ad2df6bb",
   "metadata": {},
   "outputs": [
    {
     "data": {
      "text/plain": [
       "1"
      ]
     },
     "execution_count": 38,
     "metadata": {},
     "output_type": "execute_result"
    }
   ],
   "source": [
    "leaky_relu(1)"
   ]
  },
  {
   "cell_type": "code",
   "execution_count": 39,
   "id": "1d6dfd5e",
   "metadata": {},
   "outputs": [
    {
     "data": {
      "text/plain": [
       "-10.0"
      ]
     },
     "execution_count": 39,
     "metadata": {},
     "output_type": "execute_result"
    }
   ],
   "source": [
    "leaky_relu(-100)"
   ]
  }
 ],
 "metadata": {
  "kernelspec": {
   "display_name": "Python 3",
   "language": "python",
   "name": "python3"
  },
  "language_info": {
   "codemirror_mode": {
    "name": "ipython",
    "version": 3
   },
   "file_extension": ".py",
   "mimetype": "text/x-python",
   "name": "python",
   "nbconvert_exporter": "python",
   "pygments_lexer": "ipython3",
   "version": "3.11.4"
  }
 },
 "nbformat": 4,
 "nbformat_minor": 5
}
