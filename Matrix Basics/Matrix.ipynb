{
 "cells": [
  {
   "cell_type": "code",
   "execution_count": 1,
   "id": "4b20a8bb",
   "metadata": {},
   "outputs": [],
   "source": [
    "import numpy as np"
   ]
  },
  {
   "cell_type": "code",
   "execution_count": 3,
   "id": "7d1b4901",
   "metadata": {},
   "outputs": [],
   "source": [
    "mat_A=np.array([[1,2,3],[4,5,6],[7,8,9]])\n",
    "mat_B=np.array([[1,3,5],[7,9,11],[13,15,17]])"
   ]
  },
  {
   "cell_type": "code",
   "execution_count": 5,
   "id": "e87d9127",
   "metadata": {},
   "outputs": [
    {
     "data": {
      "text/plain": [
       "array([[1, 2, 3],\n",
       "       [4, 5, 6],\n",
       "       [7, 8, 9]])"
      ]
     },
     "execution_count": 5,
     "metadata": {},
     "output_type": "execute_result"
    }
   ],
   "source": [
    "mat_A"
   ]
  },
  {
   "cell_type": "code",
   "execution_count": 6,
   "id": "c4555cf0",
   "metadata": {},
   "outputs": [
    {
     "data": {
      "text/plain": [
       "array([[ 1,  3,  5],\n",
       "       [ 7,  9, 11],\n",
       "       [13, 15, 17]])"
      ]
     },
     "execution_count": 6,
     "metadata": {},
     "output_type": "execute_result"
    }
   ],
   "source": [
    "mat_B"
   ]
  },
  {
   "cell_type": "code",
   "execution_count": 7,
   "id": "80a531d3",
   "metadata": {},
   "outputs": [
    {
     "data": {
      "text/plain": [
       "array([[ 2,  5,  8],\n",
       "       [11, 14, 17],\n",
       "       [20, 23, 26]])"
      ]
     },
     "execution_count": 7,
     "metadata": {},
     "output_type": "execute_result"
    }
   ],
   "source": [
    "mat_A+mat_B"
   ]
  },
  {
   "cell_type": "code",
   "execution_count": 8,
   "id": "5122f06e",
   "metadata": {},
   "outputs": [
    {
     "data": {
      "text/plain": [
       "array([[ 0, -1, -2],\n",
       "       [-3, -4, -5],\n",
       "       [-6, -7, -8]])"
      ]
     },
     "execution_count": 8,
     "metadata": {},
     "output_type": "execute_result"
    }
   ],
   "source": [
    "mat_A-mat_B"
   ]
  },
  {
   "cell_type": "code",
   "execution_count": 10,
   "id": "3cdfed87",
   "metadata": {},
   "outputs": [
    {
     "data": {
      "text/plain": [
       "array([[ 54,  66,  78],\n",
       "       [117, 147, 177],\n",
       "       [180, 228, 276]])"
      ]
     },
     "execution_count": 10,
     "metadata": {},
     "output_type": "execute_result"
    }
   ],
   "source": [
    "np.dot(mat_A,mat_B)"
   ]
  }
 ],
 "metadata": {
  "kernelspec": {
   "display_name": "Python 3",
   "language": "python",
   "name": "python3"
  },
  "language_info": {
   "codemirror_mode": {
    "name": "ipython",
    "version": 3
   },
   "file_extension": ".py",
   "mimetype": "text/x-python",
   "name": "python",
   "nbconvert_exporter": "python",
   "pygments_lexer": "ipython3",
   "version": "3.11.4"
  }
 },
 "nbformat": 4,
 "nbformat_minor": 5
}
