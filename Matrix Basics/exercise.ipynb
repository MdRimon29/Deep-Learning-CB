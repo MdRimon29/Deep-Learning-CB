{
 "cells": [
  {
   "cell_type": "code",
   "execution_count": 11,
   "id": "6e305603",
   "metadata": {},
   "outputs": [],
   "source": [
    "import numpy as np"
   ]
  },
  {
   "cell_type": "markdown",
   "id": "8db41e79",
   "metadata": {},
   "source": [
    "Exercise 1"
   ]
  },
  {
   "cell_type": "code",
   "execution_count": 12,
   "id": "3ffdc406",
   "metadata": {},
   "outputs": [],
   "source": [
    "mat_A=np.array([[200,220,250],\n",
    "               [68,89,105],\n",
    "               [110,140,180],\n",
    "               [80,85,90]])"
   ]
  },
  {
   "cell_type": "code",
   "execution_count": 13,
   "id": "9c77b015",
   "metadata": {},
   "outputs": [
    {
     "data": {
      "text/plain": [
       "array([[15000, 16500, 18750],\n",
       "       [ 5100,  6675,  7875],\n",
       "       [ 8250, 10500, 13500],\n",
       "       [ 6000,  6375,  6750]])"
      ]
     },
     "execution_count": 13,
     "metadata": {},
     "output_type": "execute_result"
    }
   ],
   "source": [
    "ans=mat_A*75\n",
    "ans"
   ]
  },
  {
   "cell_type": "markdown",
   "id": "46a14403",
   "metadata": {},
   "source": [
    "Exercise 2"
   ]
  },
  {
   "cell_type": "code",
   "execution_count": 16,
   "id": "9d8894b9",
   "metadata": {},
   "outputs": [],
   "source": [
    "units_sold=np.array([[50,60,25],\n",
    "                [10,13,5],\n",
    "                [40,70,52]])\n",
    "price_per_unit=np.array([20,30,15])"
   ]
  },
  {
   "cell_type": "code",
   "execution_count": null,
   "id": "31aebf0a",
   "metadata": {},
   "outputs": [
    {
     "data": {
      "text/plain": [
       "array([3175,  665, 3680])"
      ]
     },
     "execution_count": 18,
     "metadata": {},
     "output_type": "execute_result"
    }
   ],
   "source": [
    "np.dot(units_sold,price_per_unit)"
   ]
  }
 ],
 "metadata": {
  "kernelspec": {
   "display_name": "Python 3",
   "language": "python",
   "name": "python3"
  },
  "language_info": {
   "codemirror_mode": {
    "name": "ipython",
    "version": 3
   },
   "file_extension": ".py",
   "mimetype": "text/x-python",
   "name": "python",
   "nbconvert_exporter": "python",
   "pygments_lexer": "ipython3",
   "version": "3.11.4"
  }
 },
 "nbformat": 4,
 "nbformat_minor": 5
}
